{
 "cells": [
  {
   "cell_type": "code",
   "execution_count": null,
   "id": "dc9862c3",
   "metadata": {},
   "outputs": [],
   "source": [
    "# SPDX-FileCopyrightText: 2024 Universidad Autónoma de Madrid, Madrid (Spain)\n",
    "# SPDX-License-Identifier: EUPL-1.2\n",
    "\n",
    "\"\"\"\n",
    "This script automates the calibration of hyperspectral images.\n",
    "It allows processing multiple hyperspectral image directories at once.\n",
    "\n",
    "Written by: Claudia Fournier\n",
    "Revised date: 24.10.2024\n",
    "\"\"\""
   ]
  },
  {
   "cell_type": "markdown",
   "id": "783b329b",
   "metadata": {},
   "source": [
    "# Import libraries"
   ]
  },
  {
   "cell_type": "code",
   "execution_count": 2,
   "id": "3b743257",
   "metadata": {},
   "outputs": [],
   "source": [
    "import os\n",
    "import numpy as np\n",
    "import spectral\n",
    "from scipy.ndimage import zoom\n",
    "from spectral import envi"
   ]
  },
  {
   "cell_type": "markdown",
   "id": "d13c4140",
   "metadata": {},
   "source": [
    "# Define the funcitons"
   ]
  },
  {
   "cell_type": "code",
   "execution_count": 19,
   "id": "f3c777ef",
   "metadata": {},
   "outputs": [],
   "source": [
    "# 1) Loading the raw image and references\n",
    "\n",
    "def load_hyperspectral_image(path):\n",
    "    \"\"\"Load a hyperspectral image using the spectral library.\"\"\"\n",
    "    return spectral.open_image(path).load()"
   ]
  },
  {
   "cell_type": "code",
   "execution_count": 20,
   "id": "da07065a",
   "metadata": {},
   "outputs": [],
   "source": [
    "# 2) Resizing the references\n",
    "def resize_hyperspectral_image(image, target_shape):\n",
    "    \"\"\"\n",
    "    Resize a hyperspectral image to match the target shape.\n",
    "    \n",
    "    Args:\n",
    "        image (numpy.ndarray): The hyperspectral image to resize.\n",
    "        target_shape (tuple): The target shape (rows, columns, wavelengths).\n",
    "    \n",
    "    Returns:\n",
    "        numpy.ndarray: Resized image.\n",
    "    \"\"\"\n",
    "    factors = (\n",
    "        target_shape[0] / image.shape[0],\n",
    "        target_shape[1] / image.shape[1],\n",
    "        1\n",
    "    )\n",
    "    return zoom(image, factors, order=1)  # Use bilinear interpolation"
   ]
  },
  {
   "cell_type": "code",
   "execution_count": 22,
   "id": "14dee051",
   "metadata": {},
   "outputs": [],
   "source": [
    "# 3) Applying calibraiton equation\n",
    "def apply_calibration(raw_image, white_ref, dark_ref):\n",
    "    \"\"\"\n",
    "    Apply the calibration equation to the raw hyperspectral image.\n",
    "    \n",
    "    Args:\n",
    "        raw_image (numpy.ndarray): The raw hyperspectral image.\n",
    "        white_ref (numpy.ndarray): The white reference image.\n",
    "        dark_ref (numpy.ndarray): The dark reference image.\n",
    "    \n",
    "    Returns:\n",
    "        numpy.ndarray: The calibrated hyperspectral image with values clipped between 0 and 1.\n",
    "    \"\"\"\n",
    "    calibrated_image = (raw_image - dark_ref) / (white_ref - dark_ref)\n",
    "    # Clip values to valid range [0, 1]\n",
    "    calibrated_image = np.clip(calibrated_image, 0, 1)\n",
    "    return calibrated_image"
   ]
  },
  {
   "cell_type": "code",
   "execution_count": 45,
   "id": "6ade15ce",
   "metadata": {},
   "outputs": [],
   "source": [
    "# 4) Saving the calibrated image with per-image folder creation\n",
    "def save_hyperspectral_image(image_array, root_directory, image_name, metadata=None):\n",
    "    \"\"\"\n",
    "    Save a hyperspectral image using the spectral library in a dedicated folder inside the 'calibrated' directory.\n",
    "    \n",
    "    Args:\n",
    "        image_array (numpy.ndarray): Calibrated hyperspectral image data.\n",
    "        root_directory (str): Directory where the image should be saved.\n",
    "        image_name (str): Name of the image file (without extension).\n",
    "        metadata (dict): Metadata to attach to the saved image.\n",
    "    \"\"\"\n",
    "    # Create the \"calibrated\" directory if it doesn't exist\n",
    "    calibrated_dir = os.path.join(root_directory, \"calibrated\")\n",
    "    \n",
    "    # Create a subdirectory inside \"calibrated\" for each image\n",
    "    image_output_dir = os.path.join(calibrated_dir, image_name)\n",
    "    os.makedirs(image_output_dir, exist_ok=True)\n",
    "    \n",
    "    # Define the full path to save the image inside its specific subdirectory\n",
    "    file_path = os.path.join(image_output_dir, f\"{image_name}_calibrated.hdr\")\n",
    "    \n",
    "    # Save the image using the spectral library, and use the 'force' keyword to overwrite if the file exists\n",
    "    try:\n",
    "        envi.save_image(file_path, image_array, dtype=np.float32, metadata=metadata, force=True)\n",
    "    except Exception as e:\n",
    "        print(f\"Error saving hyperspectral image to {file_path}: {e}\")"
   ]
  },
  {
   "cell_type": "code",
   "execution_count": 46,
   "id": "4baf5263",
   "metadata": {},
   "outputs": [],
   "source": [
    "# 5) Processing a directory    \n",
    "def process_directory(directory):\n",
    "    \"\"\"\n",
    "    Process all hyperspectral image folders within the given directory.\n",
    "    \n",
    "    Args:\n",
    "        directory (str): Root directory containing hyperspectral images and references.\n",
    "    \"\"\"\n",
    "    for root, _, files in os.walk(directory):\n",
    "        # Filter for hyperspectral image files\n",
    "        raw_image_file = next((f for f in files if f.endswith(\".hdr\") and \"WHITEREF\" not in f and \"DARKREF\" not in f), None)\n",
    "        white_ref_file = next((f for f in files if \"WHITEREF\" in f), None)\n",
    "        dark_ref_file = next((f for f in files if \"DARKREF\" in f), None)\n",
    "        \n",
    "        if raw_image_file and white_ref_file and dark_ref_file:\n",
    "            # Define paths\n",
    "            raw_image_path = os.path.join(root, raw_image_file)\n",
    "            white_ref_path = os.path.join(root, white_ref_file)\n",
    "            dark_ref_path = os.path.join(root, dark_ref_file)\n",
    "            \n",
    "            print(f\"Processing {raw_image_file}...\")\n",
    "            \n",
    "            # Load images\n",
    "            raw_image = load_hyperspectral_image(raw_image_path)\n",
    "            white_ref = load_hyperspectral_image(white_ref_path)\n",
    "            dark_ref = load_hyperspectral_image(dark_ref_path)\n",
    "            \n",
    "            # Resize references if necessary\n",
    "            if white_ref.shape != raw_image.shape:\n",
    "                white_ref = resize_hyperspectral_image(white_ref, raw_image.shape)\n",
    "            if dark_ref.shape != raw_image.shape:\n",
    "                dark_ref = resize_hyperspectral_image(dark_ref, raw_image.shape)\n",
    "            \n",
    "            # Apply calibration\n",
    "            calibrated_image = apply_calibration(raw_image, white_ref, dark_ref)\n",
    "            \n",
    "            # Extract the image name (without extension)\n",
    "            image_name = os.path.splitext(raw_image_file)[0]\n",
    "            \n",
    "            # Save calibrated image in the root directory's \"calibrated\" folder\n",
    "            # If the calibrated image already exists, it will be overwritten\n",
    "            save_hyperspectral_image(calibrated_image, directory, image_name, metadata=raw_image.metadata)\n",
    "            \n",
    "            print(f\"{image_name} has been successfully calibrated and saved.\\n\")"
   ]
  },
  {
   "cell_type": "markdown",
   "id": "32c9b5e8",
   "metadata": {},
   "source": [
    "# Calibrating images in a given directory"
   ]
  },
  {
   "cell_type": "code",
   "execution_count": 47,
   "id": "f8514a54",
   "metadata": {},
   "outputs": [
    {
     "name": "stdout",
     "output_type": "stream",
     "text": [
      "Insert your directory path for hyperspectral images or press Enter to use the default project path: \n",
      "No directory provided, using the default project path.\n",
      "Processing 003.hdr...\n",
      "003 has been successfully calibrated and saved.\n",
      "\n"
     ]
    }
   ],
   "source": [
    "# Prompt to insert the directory path or use the default project path\n",
    "user_input = input(\"Insert your directory path for hyperspectral images or press Enter to use the default project path: \")\n",
    "\n",
    "# If the user does not provide input, use the default relative path\n",
    "if user_input.strip() == \"\":\n",
    "    print(\"No directory provided, using the default project path.\")\n",
    "    # Set the path relative to the project root\n",
    "    base_path = os.path.abspath(os.path.join(os.getcwd(), '..'))\n",
    "    # Default directory containing folders with hyperspectral images\n",
    "    base_directory = os.path.join(base_path, \"data\")\n",
    "else:\n",
    "    # Use the provided directory path\n",
    "    base_directory = user_input.strip()\n",
    "\n",
    "# Process all subdirectories\n",
    "process_directory(base_directory)"
   ]
  },
  {
   "cell_type": "code",
   "execution_count": null,
   "id": "27e156a0",
   "metadata": {},
   "outputs": [],
   "source": []
  }
 ],
 "metadata": {
  "kernelspec": {
   "display_name": "Python 3 (ipykernel)",
   "language": "python",
   "name": "python3"
  },
  "language_info": {
   "codemirror_mode": {
    "name": "ipython",
    "version": 3
   },
   "file_extension": ".py",
   "mimetype": "text/x-python",
   "name": "python",
   "nbconvert_exporter": "python",
   "pygments_lexer": "ipython3",
   "version": "3.9.17"
  },
  "toc": {
   "base_numbering": 1,
   "nav_menu": {},
   "number_sections": true,
   "sideBar": true,
   "skip_h1_title": false,
   "title_cell": "Table of Contents",
   "title_sidebar": "Contents",
   "toc_cell": false,
   "toc_position": {},
   "toc_section_display": true,
   "toc_window_display": false
  }
 },
 "nbformat": 4,
 "nbformat_minor": 5
}
