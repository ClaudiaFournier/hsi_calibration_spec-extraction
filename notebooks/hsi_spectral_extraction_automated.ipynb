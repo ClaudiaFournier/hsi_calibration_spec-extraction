{
 "cells": [
  {
   "cell_type": "code",
   "execution_count": null,
   "id": "f016d187",
   "metadata": {},
   "outputs": [],
   "source": [
    "# SPDX-FileCopyrightText: 2024 Universidad Autónoma de Madrid, Madrid (Spain)\n",
    "# SPDX-License-Identifier: EUPL-1.2\n",
    "\n",
    "# !/usr/bin/env python3\n",
    "# -*- coding: utf-8 -*-\n",
    "\n",
    "\"\"\"\n",
    "This script automates the spectral extraction process by defining the wavelength ratio, applying quality filters, and creating spectral groups.\n",
    "It allows processing multiple (previosuly calibrated) hyperspectral images at once.\n",
    "\n",
    "Written by: Claudia Fournier\n",
    "Revised date: 24.10.2024\n",
    "\"\"\""
   ]
  }
 ],
 "metadata": {
  "kernelspec": {
   "display_name": "Python 3 (ipykernel)",
   "language": "python",
   "name": "python3"
  },
  "language_info": {
   "codemirror_mode": {
    "name": "ipython",
    "version": 3
   },
   "file_extension": ".py",
   "mimetype": "text/x-python",
   "name": "python",
   "nbconvert_exporter": "python",
   "pygments_lexer": "ipython3",
   "version": "3.9.17"
  },
  "toc": {
   "base_numbering": 1,
   "nav_menu": {},
   "number_sections": true,
   "sideBar": true,
   "skip_h1_title": false,
   "title_cell": "Table of Contents",
   "title_sidebar": "Contents",
   "toc_cell": false,
   "toc_position": {},
   "toc_section_display": true,
   "toc_window_display": false
  }
 },
 "nbformat": 4,
 "nbformat_minor": 5
}
