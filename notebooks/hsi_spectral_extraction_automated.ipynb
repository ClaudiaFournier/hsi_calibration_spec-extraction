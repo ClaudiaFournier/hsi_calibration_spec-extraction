{
 "cells": [
  {
   "cell_type": "code",
   "execution_count": null,
   "id": "f016d187",
   "metadata": {},
   "outputs": [],
   "source": [
    "# SPDX-FileCopyrightText: 2024 Universidad Autónoma de Madrid, Madrid (Spain)\n",
    "# SPDX-License-Identifier: EUPL-1.2\n",
    "\n",
    "\"\"\"\n",
    "This script automates the spectral extraction process by defining the wavelength ratio, applying quality filters, and creating spectral groups.\n",
    "It allows processing multiple (previosuly calibrated) hyperspectral images at once. \n",
    "\n",
    "Written by: Claudia Fournier\n",
    "Revised date: 24.10.2024\n",
    "\"\"\""
   ]
  },
  {
   "cell_type": "markdown",
   "id": "21ec40e5",
   "metadata": {},
   "source": [
    "# Load the libraries"
   ]
  },
  {
   "cell_type": "code",
   "execution_count": 2,
   "id": "9ca4b8d0",
   "metadata": {},
   "outputs": [],
   "source": [
    "from spectral import open_image, imshow  # For handling and displaying hyperspectral images\n",
    "from glob import glob                    # For finding all pathnames matching a specified pattern\n",
    "import matplotlib.pyplot as plt           # For creating plots and visualizations\n",
    "import pandas as pd                       # For data handling and manipulation, especially with tabular data\n",
    "import numpy as np                        # For numerical operations and array manipulation, essential for processing spectral data\n",
    "import os                                 # For interacting with the operating system, particularly for file paths and directory handling"
   ]
  },
  {
   "cell_type": "code",
   "execution_count": null,
   "id": "fb0e9645",
   "metadata": {},
   "outputs": [],
   "source": []
  },
  {
   "cell_type": "markdown",
   "id": "bae5bcd7",
   "metadata": {},
   "source": [
    "# Define the funcitons"
   ]
  },
  {
   "cell_type": "code",
   "execution_count": 3,
   "id": "a7009862",
   "metadata": {},
   "outputs": [],
   "source": [
    "# flexibilizando el group_sze: con 20 pixels por espectro, y quedándome solo el 3% de los espectros resultantes\n",
    "# así se mantiene la variabilidad y se suaviza el ruido\n",
    "\n",
    "def process_image(image_path, output_directory, group_size=None, threshold=1.5, quality_filter_threshold=0.01):\n",
    "    # Load calibrated image\n",
    "    img = open_image(image_path)\n",
    "    \n",
    "    # Create wavelength array\n",
    "    wavelengths = np.array(img.metadata['wavelength'], dtype=float)\n",
    "    \n",
    "    # Define the wavelengths (find the indices for 751 nm and 676 nm)\n",
    "    wavelength_751_index = int(np.argmin(np.abs(wavelengths - 751)))\n",
    "    wavelength_676_index = int(np.argmin(np.abs(wavelengths - 676)))\n",
    "    \n",
    "    # Compute the ratio\n",
    "    ratio_image = img[:, :, wavelength_751_index] / img[:, :, wavelength_676_index]\n",
    "    \n",
    "    # Create a mask based on the ratio\n",
    "    mask = ratio_image > threshold\n",
    "    \n",
    "    # Create subdirectory for the image's parent directory\n",
    "    parent_directory_name = os.path.basename(os.path.dirname(image_path))\n",
    "    image_output_directory = os.path.join(output_directory, parent_directory_name)\n",
    "    if not os.path.exists(image_output_directory):\n",
    "        os.makedirs(image_output_directory)\n",
    "    \n",
    "    # Save the original image as PNG\n",
    "    original_image_filename = os.path.join(image_output_directory, f\"{parent_directory_name}_original.png\")\n",
    "    plt.figure(figsize=(10, 8))\n",
    "    imshow(img, (86, 52, 18))\n",
    "    plt.savefig(original_image_filename)\n",
    "    plt.close()\n",
    "    \n",
    "    # Save image with mask overlay as PNG\n",
    "    mask_overlay_filename = os.path.join(image_output_directory, f\"{parent_directory_name}_mask_overlay.png\")\n",
    "    plt.figure(figsize=(10, 8))\n",
    "    imshow(img, (86, 52, 18))\n",
    "    plt.imshow(mask, cmap='coolwarm', alpha=0.7)\n",
    "    plt.title(f'Mask Overlay for 751/676 > {threshold}')\n",
    "    plt.xlabel('')\n",
    "    plt.ylabel('')\n",
    "    plt.grid(False)\n",
    "    plt.colorbar(label=f'Ratio Mask > {threshold}')\n",
    "    plt.savefig(mask_overlay_filename)\n",
    "    plt.close()\n",
    "    \n",
    "    # Extract spectra using the mask\n",
    "    indices = np.argwhere(mask)\n",
    "    spectra_data = []\n",
    "    for idx in indices:\n",
    "        x, y = idx[0], idx[1]\n",
    "        spectra = img[x, y, :]\n",
    "        spectra_data.append(spectra)\n",
    "    \n",
    "    spectra_data = np.array(spectra_data).reshape(len(spectra_data), -1)\n",
    "    \n",
    "    # Create DataFrame with spectra_data\n",
    "    wavelength_columns = [f\"{wavelength:.2f}\" for wavelength in wavelengths]\n",
    "    df = pd.DataFrame(spectra_data, columns=wavelength_columns)\n",
    "    \n",
    "    # Apply quality filter\n",
    "    row_means = df.mean(axis=1)\n",
    "    filtered_df = df[row_means >= quality_filter_threshold].reset_index(drop=True)\n",
    "    \n",
    "    # Calculate average spectrum (mean along rows) of filtered data\n",
    "    avg_spectrum_filtered = filtered_df.mean(axis=0)\n",
    "    std_spectrum_filtered = filtered_df.std(axis=0)\n",
    "    \n",
    "    # Save average spectra plot after filtering as PNG\n",
    "    average_spectra_plot_filename = os.path.join(image_output_directory, f\"{parent_directory_name}_average_spectra_filtered.png\")\n",
    "    plt.figure(figsize=(10, 4))\n",
    "    plt.plot(wavelengths, avg_spectrum_filtered, label='Average Spectrum After Filtering')\n",
    "    plt.xlabel('Wavelength (nm)')\n",
    "    plt.ylabel('Reflectance')\n",
    "    plt.title('Average Spectrum After Filtering')\n",
    "    plt.legend()\n",
    "    plt.grid(True)\n",
    "    plt.savefig(average_spectra_plot_filename)\n",
    "    plt.close()\n",
    "    \n",
    "    # Save average spectra plot with standard deviation as PNG\n",
    "    average_spectra_std_plot_filename = os.path.join(image_output_directory, f\"{parent_directory_name}_average_spectra_std_filtered.png\")\n",
    "    plt.figure(figsize=(10, 4))\n",
    "    plt.plot(wavelengths, avg_spectrum_filtered, label='Average Spectrum')\n",
    "    plt.fill_between(wavelengths, avg_spectrum_filtered - std_spectrum_filtered, avg_spectrum_filtered + std_spectrum_filtered, color='gray', alpha=0.5, label='Standard Deviation')\n",
    "    plt.xlabel('Wavelength (nm)')\n",
    "    plt.ylabel('Reflectance')\n",
    "    plt.title('Average Spectrum with Standard Deviation')\n",
    "    plt.legend()\n",
    "    plt.grid(True)\n",
    "    plt.savefig(average_spectra_std_plot_filename)\n",
    "    plt.close()\n",
    "    \n",
    "    # Determine group_size if not provided\n",
    "    if group_size is None:\n",
    "        group_size = len(filtered_df)  # Set to the number of pixels if not specified\n",
    "    \n",
    "    # Randomly group and average every 'group_size' rows\n",
    "    np.random.seed(42)\n",
    "    num_groups = len(filtered_df) // group_size\n",
    "    shuffled_df = filtered_df.sample(frac=1).reset_index(drop=True)\n",
    "    averaged_rows = [shuffled_df.iloc[i*group_size:(i+1)*group_size].mean(axis=0) for i in range(num_groups)]\n",
    "    averaged_df_shuffled = pd.DataFrame(averaged_rows)\n",
    "\n",
    "    # Randomly select 3% of the resulting averaged spectra\n",
    "    top_3_percent_count = int(len(averaged_df_shuffled) * 0.03)  # Calculate 3% of the averaged spectra\n",
    "    top_3_percent_df = averaged_df_shuffled.sample(n=top_3_percent_count, random_state=42).reset_index(drop=True)\n",
    "\n",
    "    # Plot and save spectra of the selected 3% rows\n",
    "    spectra_plot_filename = os.path.join(image_output_directory, f\"{parent_directory_name}_selected_3_percent_spectra.png\")\n",
    "    plt.figure(figsize=(10, 4))\n",
    "    for idx in range(min(100, len(top_3_percent_df))):\n",
    "        plt.plot(wavelengths, top_3_percent_df.iloc[idx], label=f'Row {idx+1}')\n",
    "    plt.xlabel('Wavelength (nm)')\n",
    "    plt.ylabel('Reflectance')\n",
    "    plt.title('Spectra of Selected 3% Rows')\n",
    "    plt.grid(True)\n",
    "    plt.savefig(spectra_plot_filename)\n",
    "    plt.close()\n",
    "\n",
    "    # Save the selected 3% DataFrame as CSV in the subdirectory\n",
    "    csv_filename = os.path.join(image_output_directory, f\"{parent_directory_name}_averaged_spectra.csv\")\n",
    "    top_3_percent_df.to_csv(csv_filename, index=False)\n",
    "    print(f\"Selected 3% DataFrame saved as CSV file: {csv_filename}\")\n",
    "    \n",
    "    # Create report text file\n",
    "    report_filename = os.path.join(image_output_directory, f\"{parent_directory_name}_report.txt\")\n",
    "    with open(report_filename, 'w') as f:\n",
    "        # Number of pixels within the mask containing biomass\n",
    "        num_pixels_mask = np.count_nonzero(mask)\n",
    "        f.write(f\"Pixels within the mask containing biomass: {num_pixels_mask}\\n\")\n",
    "\n",
    "        # Verify the number of pixels in the mask and rows in the DataFrame\n",
    "        num_rows_df = len(df)\n",
    "        if num_pixels_mask == num_rows_df:\n",
    "            f.write(\"Number of pixels in mask and number of rows in df are the same.\\n\")\n",
    "        else:\n",
    "            f.write(\"Number of pixels in mask and number of rows in df are different.\\n\")\n",
    "\n",
    "        # Original and filtered DataFrame information\n",
    "        f.write(f\"Original number of rows: {df.shape[0]}\\n\")\n",
    "        f.write(f\"Number of rows after filtering: {filtered_df.shape[0]}\\n\")\n",
    "        rows_removed = df.shape[0] - filtered_df.shape[0]\n",
    "        f.write(f\"{rows_removed} rows were removed.\\n\")\n",
    "\n",
    "        # Number of rows in the original and the averaged DataFrame\n",
    "        f.write(f\"Original number of rows: {len(filtered_df)}\\n\")\n",
    "        f.write(f\"Number of rows after averaging every {group_size} rows: {len(averaged_df_shuffled)}\\n\")\n",
    "\n",
    "        # Number of spectra selected by the 3%\n",
    "        f.write(f\"Number of spectra selected by the 3%: {top_3_percent_count}\\n\")\n",
    "\n",
    "    print(f\"Report saved as TXT file: {report_filename}\")"
   ]
  },
  {
   "cell_type": "markdown",
   "id": "3511f7ad",
   "metadata": {},
   "source": [
    "# Extracting and goruping spectra from al calibrated images within a given directory"
   ]
  },
  {
   "cell_type": "code",
   "execution_count": 4,
   "id": "4acbd061",
   "metadata": {},
   "outputs": [
    {
     "name": "stderr",
     "output_type": "stream",
     "text": [
      "C:\\Users\\cfour\\anaconda3\\envs\\hypermix\\lib\\site-packages\\spectral\\graphics\\spypylab.py:796: UserWarning: Failed to create RectangleSelector object. Interactive pixel class labeling will be unavailable.\n",
      "  warnings.warn(msg)\n"
     ]
    },
    {
     "name": "stdout",
     "output_type": "stream",
     "text": [
      "Selected 3% DataFrame saved as CSV file: C:\\Users\\cfour\\Desktop\\git_projects\\hyper_mix\\code_data_publication\\hyperspectral_analysis\\notebooks\\data\\calibrated\\spectral_extraction\\003\\003_averaged_spectra.csv\n",
      "Report saved as TXT file: C:\\Users\\cfour\\Desktop\\git_projects\\hyper_mix\\code_data_publication\\hyperspectral_analysis\\notebooks\\data\\calibrated\\spectral_extraction\\003\\003_report.txt\n"
     ]
    },
    {
     "data": {
      "text/plain": [
       "<Figure size 1000x800 with 0 Axes>"
      ]
     },
     "metadata": {},
     "output_type": "display_data"
    },
    {
     "data": {
      "text/plain": [
       "<Figure size 1000x800 with 0 Axes>"
      ]
     },
     "metadata": {},
     "output_type": "display_data"
    }
   ],
   "source": [
    "# Set the base path and define the directory of the calibrated image\n",
    "base_path = os.getcwd()\n",
    "default_input_path = os.path.join(base_path, \"data\", \"calibrated\")\n",
    "default_output_path = os.path.join(base_path, \"data\", \"calibrated\", \"spectral_extraction\")\n",
    "\n",
    "# Directory with calibrated images\n",
    "input_directory = default_input_path\n",
    "output_directory = default_output_path\n",
    "\n",
    "# Process all images in the directory and subdirectories\n",
    "for root, dirs, files in os.walk(input_directory):\n",
    "    for file in files:\n",
    "        if file.endswith('.hdr'):\n",
    "            image_path = os.path.join(root, file)\n",
    "            process_image(image_path, output_directory, group_size=20)"
   ]
  },
  {
   "cell_type": "code",
   "execution_count": null,
   "id": "eaad41d2",
   "metadata": {},
   "outputs": [],
   "source": []
  }
 ],
 "metadata": {
  "kernelspec": {
   "display_name": "Python 3 (ipykernel)",
   "language": "python",
   "name": "python3"
  },
  "language_info": {
   "codemirror_mode": {
    "name": "ipython",
    "version": 3
   },
   "file_extension": ".py",
   "mimetype": "text/x-python",
   "name": "python",
   "nbconvert_exporter": "python",
   "pygments_lexer": "ipython3",
   "version": "3.9.17"
  },
  "toc": {
   "base_numbering": 1,
   "nav_menu": {},
   "number_sections": true,
   "sideBar": true,
   "skip_h1_title": false,
   "title_cell": "Table of Contents",
   "title_sidebar": "Contents",
   "toc_cell": false,
   "toc_position": {},
   "toc_section_display": true,
   "toc_window_display": false
  }
 },
 "nbformat": 4,
 "nbformat_minor": 5
}
